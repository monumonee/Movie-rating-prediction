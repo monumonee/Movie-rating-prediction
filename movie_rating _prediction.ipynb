{
 "cells": [
  {
   "cell_type": "code",
   "execution_count": 12,
   "id": "6f960a10",
   "metadata": {},
   "outputs": [],
   "source": [
    "import numpy as np\n",
    "import pandas as pd\n",
    "import seaborn as sns\n",
    "import matplotlib.pyplot as plt\n",
    "from sklearn.model_selection import train_test_split\n",
    "from sklearn.ensemble import RandomForestRegressor\n",
    "from sklearn.linear_model import LinearRegression\n",
    "from sklearn.metrics import accuracy_score,r2_score,mean_absolute_error,mean_squared_error\n"
   ]
  },
  {
   "cell_type": "markdown",
   "id": "ee53d6c5",
   "metadata": {},
   "source": [
    "Read data\n"
   ]
  },
  {
   "cell_type": "code",
   "execution_count": 13,
   "id": "f62cf356",
   "metadata": {},
   "outputs": [],
   "source": [
    "movie_data=pd.read_csv(\"IMDb_Movies_India.csv\",encoding='latin1')"
   ]
  },
  {
   "cell_type": "markdown",
   "id": "50ed2ec6",
   "metadata": {},
   "source": [
    "Preprocess"
   ]
  },
  {
   "cell_type": "code",
   "execution_count": 14,
   "id": "8d5beef9",
   "metadata": {},
   "outputs": [
    {
     "data": {
      "text/plain": [
       "Name           0\n",
       "Year         528\n",
       "Duration    8269\n",
       "Genre       1877\n",
       "Rating      7590\n",
       "Votes       7589\n",
       "Director     525\n",
       "Actor 1     1617\n",
       "Actor 2     2384\n",
       "Actor 3     3144\n",
       "dtype: int64"
      ]
     },
     "execution_count": 14,
     "metadata": {},
     "output_type": "execute_result"
    }
   ],
   "source": [
    "movie_data.head()\n",
    "movie_data.isnull().sum()\n",
    "\n"
   ]
  },
  {
   "cell_type": "markdown",
   "id": "b34d12e3",
   "metadata": {},
   "source": [
    "remove null rows"
   ]
  },
  {
   "cell_type": "code",
   "execution_count": 15,
   "id": "5f0056f9",
   "metadata": {},
   "outputs": [],
   "source": [
    "movie_data.dropna(subset=['Name', 'Year', 'Duration', 'Rating', 'Votes', 'Director', 'Actor 1', 'Actor 2', 'Actor 3'], inplace=True)"
   ]
  },
  {
   "cell_type": "markdown",
   "id": "99241180",
   "metadata": {},
   "source": [
    "remove duplictes"
   ]
  },
  {
   "cell_type": "code",
   "execution_count": 16,
   "id": "66440301",
   "metadata": {},
   "outputs": [
    {
     "name": "stderr",
     "output_type": "stream",
     "text": [
      "<>:1: SyntaxWarning: invalid escape sequence '\\s'\n",
      "<>:1: SyntaxWarning: invalid escape sequence '\\s'\n",
      "C:\\Users\\Kaustubha Ram\\AppData\\Local\\Temp\\ipykernel_29116\\3631088123.py:1: SyntaxWarning: invalid escape sequence '\\s'\n",
      "  movie_data['Name'] = movie_data['Name'].str.extract('([A-Za-z\\s\\'\\-]+)')\n",
      "C:\\Users\\Kaustubha Ram\\AppData\\Local\\Temp\\ipykernel_29116\\3631088123.py:7: FutureWarning: A value is trying to be set on a copy of a DataFrame or Series through chained assignment using an inplace method.\n",
      "The behavior will change in pandas 3.0. This inplace method will never work because the intermediate object on which we are setting values always behaves as a copy.\n",
      "\n",
      "For example, when doing 'df[col].method(value, inplace=True)', try using 'df.method({col: value}, inplace=True)' or df[col] = df[col].method(value) instead, to perform the operation inplace on the original object.\n",
      "\n",
      "\n",
      "  movie_data['Genre'].fillna(movie_data['Genre'].mode()[0],inplace=True)\n"
     ]
    },
    {
     "data": {
      "text/html": [
       "<div>\n",
       "<style scoped>\n",
       "    .dataframe tbody tr th:only-of-type {\n",
       "        vertical-align: middle;\n",
       "    }\n",
       "\n",
       "    .dataframe tbody tr th {\n",
       "        vertical-align: top;\n",
       "    }\n",
       "\n",
       "    .dataframe thead th {\n",
       "        text-align: right;\n",
       "    }\n",
       "</style>\n",
       "<table border=\"1\" class=\"dataframe\">\n",
       "  <thead>\n",
       "    <tr style=\"text-align: right;\">\n",
       "      <th></th>\n",
       "      <th>Name</th>\n",
       "      <th>Year</th>\n",
       "      <th>Duration</th>\n",
       "      <th>Genre</th>\n",
       "      <th>Rating</th>\n",
       "      <th>Votes</th>\n",
       "      <th>Director</th>\n",
       "      <th>Actor 1</th>\n",
       "      <th>Actor 2</th>\n",
       "      <th>Actor 3</th>\n",
       "    </tr>\n",
       "  </thead>\n",
       "  <tbody>\n",
       "    <tr>\n",
       "      <th>3</th>\n",
       "      <td>Yaaram</td>\n",
       "      <td>2019</td>\n",
       "      <td>110</td>\n",
       "      <td>Comedy</td>\n",
       "      <td>4.4</td>\n",
       "      <td>35</td>\n",
       "      <td>Ovais Khan</td>\n",
       "      <td>Prateik</td>\n",
       "      <td>Ishita Raj</td>\n",
       "      <td>Siddhant Kapoor</td>\n",
       "    </tr>\n",
       "    <tr>\n",
       "      <th>3</th>\n",
       "      <td>Yaaram</td>\n",
       "      <td>2019</td>\n",
       "      <td>110</td>\n",
       "      <td>Romance</td>\n",
       "      <td>4.4</td>\n",
       "      <td>35</td>\n",
       "      <td>Ovais Khan</td>\n",
       "      <td>Prateik</td>\n",
       "      <td>Ishita Raj</td>\n",
       "      <td>Siddhant Kapoor</td>\n",
       "    </tr>\n",
       "    <tr>\n",
       "      <th>5</th>\n",
       "      <td>Aur Pyaar Ho Gaya</td>\n",
       "      <td>1997</td>\n",
       "      <td>147</td>\n",
       "      <td>Comedy</td>\n",
       "      <td>4.7</td>\n",
       "      <td>827</td>\n",
       "      <td>Rahul Rawail</td>\n",
       "      <td>Bobby Deol</td>\n",
       "      <td>Aishwarya Rai Bachchan</td>\n",
       "      <td>Shammi Kapoor</td>\n",
       "    </tr>\n",
       "    <tr>\n",
       "      <th>5</th>\n",
       "      <td>Aur Pyaar Ho Gaya</td>\n",
       "      <td>1997</td>\n",
       "      <td>147</td>\n",
       "      <td>Drama</td>\n",
       "      <td>4.7</td>\n",
       "      <td>827</td>\n",
       "      <td>Rahul Rawail</td>\n",
       "      <td>Bobby Deol</td>\n",
       "      <td>Aishwarya Rai Bachchan</td>\n",
       "      <td>Shammi Kapoor</td>\n",
       "    </tr>\n",
       "    <tr>\n",
       "      <th>5</th>\n",
       "      <td>Aur Pyaar Ho Gaya</td>\n",
       "      <td>1997</td>\n",
       "      <td>147</td>\n",
       "      <td>Musical</td>\n",
       "      <td>4.7</td>\n",
       "      <td>827</td>\n",
       "      <td>Rahul Rawail</td>\n",
       "      <td>Bobby Deol</td>\n",
       "      <td>Aishwarya Rai Bachchan</td>\n",
       "      <td>Shammi Kapoor</td>\n",
       "    </tr>\n",
       "  </tbody>\n",
       "</table>\n",
       "</div>"
      ],
      "text/plain": [
       "                Name  Year  Duration     Genre  Rating  Votes      Director  \\\n",
       "3             Yaaram  2019       110    Comedy     4.4     35    Ovais Khan   \n",
       "3             Yaaram  2019       110   Romance     4.4     35    Ovais Khan   \n",
       "5  Aur Pyaar Ho Gaya  1997       147    Comedy     4.7    827  Rahul Rawail   \n",
       "5  Aur Pyaar Ho Gaya  1997       147     Drama     4.7    827  Rahul Rawail   \n",
       "5  Aur Pyaar Ho Gaya  1997       147   Musical     4.7    827  Rahul Rawail   \n",
       "\n",
       "      Actor 1                 Actor 2          Actor 3  \n",
       "3     Prateik              Ishita Raj  Siddhant Kapoor  \n",
       "3     Prateik              Ishita Raj  Siddhant Kapoor  \n",
       "5  Bobby Deol  Aishwarya Rai Bachchan    Shammi Kapoor  \n",
       "5  Bobby Deol  Aishwarya Rai Bachchan    Shammi Kapoor  \n",
       "5  Bobby Deol  Aishwarya Rai Bachchan    Shammi Kapoor  "
      ]
     },
     "execution_count": 16,
     "metadata": {},
     "output_type": "execute_result"
    }
   ],
   "source": [
    "movie_data['Name'] = movie_data['Name'].str.extract('([A-Za-z\\s\\'\\-]+)')\n",
    "movie_data['Year'] = movie_data['Year'].astype(str).str.replace(r'[()]', '',regex=True).astype(int)\n",
    "movie_data['Duration']=pd.to_numeric(movie_data['Duration'].astype(str).str.replace(r' min','',regex=True),errors='coerce')\n",
    "movie_data['Votes']=pd.to_numeric(movie_data['Votes'].astype(str).str.replace(',',''),errors='coerce')\n",
    "movie_data['Genre']=movie_data['Genre'].str.split(',')\n",
    "movie_data=movie_data.explode('Genre')\n",
    "movie_data['Genre'].fillna(movie_data['Genre'].mode()[0],inplace=True)\n",
    "\n",
    "\n",
    "\n",
    "duplicate = movie_data.groupby(['Name', 'Year']).filter(lambda x: len(x) > 1)\n",
    "duplicate.head(5)\n"
   ]
  },
  {
   "cell_type": "code",
   "execution_count": 17,
   "id": "dae2e534",
   "metadata": {},
   "outputs": [
    {
     "name": "stdout",
     "output_type": "stream",
     "text": [
      "<class 'pandas.core.frame.DataFrame'>\n",
      "Index: 12008 entries, 1 to 15508\n",
      "Data columns (total 9 columns):\n",
      " #   Column    Non-Null Count  Dtype  \n",
      "---  ------    --------------  -----  \n",
      " 0   Year      12008 non-null  int32  \n",
      " 1   Duration  12008 non-null  int64  \n",
      " 2   Genre     12008 non-null  object \n",
      " 3   Rating    12008 non-null  float64\n",
      " 4   Votes     12008 non-null  int64  \n",
      " 5   Director  12008 non-null  object \n",
      " 6   Actor 1   12008 non-null  object \n",
      " 7   Actor 2   12008 non-null  object \n",
      " 8   Actor 3   12008 non-null  object \n",
      "dtypes: float64(1), int32(1), int64(2), object(5)\n",
      "memory usage: 891.2+ KB\n"
     ]
    }
   ],
   "source": [
    "movie_data.drop_duplicates(subset=['Name'],keep=False)\n",
    "movie_data.drop('Name',axis=1,inplace=True)\n",
    "movie_data.info()"
   ]
  },
  {
   "cell_type": "code",
   "execution_count": 18,
   "id": "6bac59b8",
   "metadata": {},
   "outputs": [
    {
     "data": {
      "text/html": [
       "<div>\n",
       "<style scoped>\n",
       "    .dataframe tbody tr th:only-of-type {\n",
       "        vertical-align: middle;\n",
       "    }\n",
       "\n",
       "    .dataframe tbody tr th {\n",
       "        vertical-align: top;\n",
       "    }\n",
       "\n",
       "    .dataframe thead th {\n",
       "        text-align: right;\n",
       "    }\n",
       "</style>\n",
       "<table border=\"1\" class=\"dataframe\">\n",
       "  <thead>\n",
       "    <tr style=\"text-align: right;\">\n",
       "      <th></th>\n",
       "      <th>Year</th>\n",
       "      <th>Duration</th>\n",
       "      <th>Genre</th>\n",
       "      <th>Rating</th>\n",
       "      <th>Votes</th>\n",
       "      <th>Director</th>\n",
       "      <th>Actor 1</th>\n",
       "      <th>Actor 2</th>\n",
       "      <th>Actor 3</th>\n",
       "      <th>Genre_group</th>\n",
       "      <th>Director_group</th>\n",
       "      <th>Actor_1_group</th>\n",
       "      <th>Actor_2_group</th>\n",
       "      <th>Actor_3_group</th>\n",
       "    </tr>\n",
       "  </thead>\n",
       "  <tbody>\n",
       "    <tr>\n",
       "      <th>1</th>\n",
       "      <td>2019</td>\n",
       "      <td>109</td>\n",
       "      <td>Drama</td>\n",
       "      <td>7.0</td>\n",
       "      <td>8</td>\n",
       "      <td>Gaurav Bakshi</td>\n",
       "      <td>Rasika Dugal</td>\n",
       "      <td>Vivek Ghamande</td>\n",
       "      <td>Arvind Jangid</td>\n",
       "      <td>6.248697</td>\n",
       "      <td>7.000000</td>\n",
       "      <td>6.850000</td>\n",
       "      <td>7.000000</td>\n",
       "      <td>7.000000</td>\n",
       "    </tr>\n",
       "    <tr>\n",
       "      <th>3</th>\n",
       "      <td>2019</td>\n",
       "      <td>110</td>\n",
       "      <td>Comedy</td>\n",
       "      <td>4.4</td>\n",
       "      <td>35</td>\n",
       "      <td>Ovais Khan</td>\n",
       "      <td>Prateik</td>\n",
       "      <td>Ishita Raj</td>\n",
       "      <td>Siddhant Kapoor</td>\n",
       "      <td>5.838423</td>\n",
       "      <td>4.400000</td>\n",
       "      <td>5.250000</td>\n",
       "      <td>4.400000</td>\n",
       "      <td>4.460000</td>\n",
       "    </tr>\n",
       "    <tr>\n",
       "      <th>3</th>\n",
       "      <td>2019</td>\n",
       "      <td>110</td>\n",
       "      <td>Romance</td>\n",
       "      <td>4.4</td>\n",
       "      <td>35</td>\n",
       "      <td>Ovais Khan</td>\n",
       "      <td>Prateik</td>\n",
       "      <td>Ishita Raj</td>\n",
       "      <td>Siddhant Kapoor</td>\n",
       "      <td>5.838739</td>\n",
       "      <td>4.400000</td>\n",
       "      <td>5.250000</td>\n",
       "      <td>4.400000</td>\n",
       "      <td>4.460000</td>\n",
       "    </tr>\n",
       "    <tr>\n",
       "      <th>5</th>\n",
       "      <td>1997</td>\n",
       "      <td>147</td>\n",
       "      <td>Comedy</td>\n",
       "      <td>4.7</td>\n",
       "      <td>827</td>\n",
       "      <td>Rahul Rawail</td>\n",
       "      <td>Bobby Deol</td>\n",
       "      <td>Aishwarya Rai Bachchan</td>\n",
       "      <td>Shammi Kapoor</td>\n",
       "      <td>5.838423</td>\n",
       "      <td>5.335135</td>\n",
       "      <td>4.793617</td>\n",
       "      <td>5.730000</td>\n",
       "      <td>5.930000</td>\n",
       "    </tr>\n",
       "    <tr>\n",
       "      <th>5</th>\n",
       "      <td>1997</td>\n",
       "      <td>147</td>\n",
       "      <td>Drama</td>\n",
       "      <td>4.7</td>\n",
       "      <td>827</td>\n",
       "      <td>Rahul Rawail</td>\n",
       "      <td>Bobby Deol</td>\n",
       "      <td>Aishwarya Rai Bachchan</td>\n",
       "      <td>Shammi Kapoor</td>\n",
       "      <td>5.882451</td>\n",
       "      <td>5.335135</td>\n",
       "      <td>4.793617</td>\n",
       "      <td>5.730000</td>\n",
       "      <td>5.930000</td>\n",
       "    </tr>\n",
       "    <tr>\n",
       "      <th>...</th>\n",
       "      <td>...</td>\n",
       "      <td>...</td>\n",
       "      <td>...</td>\n",
       "      <td>...</td>\n",
       "      <td>...</td>\n",
       "      <td>...</td>\n",
       "      <td>...</td>\n",
       "      <td>...</td>\n",
       "      <td>...</td>\n",
       "      <td>...</td>\n",
       "      <td>...</td>\n",
       "      <td>...</td>\n",
       "      <td>...</td>\n",
       "      <td>...</td>\n",
       "    </tr>\n",
       "    <tr>\n",
       "      <th>15503</th>\n",
       "      <td>1989</td>\n",
       "      <td>125</td>\n",
       "      <td>Drama</td>\n",
       "      <td>5.8</td>\n",
       "      <td>44</td>\n",
       "      <td>S.P. Muthuraman</td>\n",
       "      <td>Chiranjeevi</td>\n",
       "      <td>Jayamalini</td>\n",
       "      <td>Rajinikanth</td>\n",
       "      <td>5.882451</td>\n",
       "      <td>6.290476</td>\n",
       "      <td>6.377419</td>\n",
       "      <td>5.800000</td>\n",
       "      <td>6.018750</td>\n",
       "    </tr>\n",
       "    <tr>\n",
       "      <th>15505</th>\n",
       "      <td>1999</td>\n",
       "      <td>129</td>\n",
       "      <td>Action</td>\n",
       "      <td>4.5</td>\n",
       "      <td>655</td>\n",
       "      <td>Kuku Kohli</td>\n",
       "      <td>Akshay Kumar</td>\n",
       "      <td>Twinkle Khanna</td>\n",
       "      <td>Aruna Irani</td>\n",
       "      <td>5.511985</td>\n",
       "      <td>5.175000</td>\n",
       "      <td>5.440845</td>\n",
       "      <td>4.603704</td>\n",
       "      <td>5.754545</td>\n",
       "    </tr>\n",
       "    <tr>\n",
       "      <th>15505</th>\n",
       "      <td>1999</td>\n",
       "      <td>129</td>\n",
       "      <td>Drama</td>\n",
       "      <td>4.5</td>\n",
       "      <td>655</td>\n",
       "      <td>Kuku Kohli</td>\n",
       "      <td>Akshay Kumar</td>\n",
       "      <td>Twinkle Khanna</td>\n",
       "      <td>Aruna Irani</td>\n",
       "      <td>5.882451</td>\n",
       "      <td>5.175000</td>\n",
       "      <td>5.440845</td>\n",
       "      <td>4.603704</td>\n",
       "      <td>5.754545</td>\n",
       "    </tr>\n",
       "    <tr>\n",
       "      <th>15508</th>\n",
       "      <td>1998</td>\n",
       "      <td>130</td>\n",
       "      <td>Action</td>\n",
       "      <td>6.2</td>\n",
       "      <td>20</td>\n",
       "      <td>K.C. Bokadia</td>\n",
       "      <td>Dharmendra</td>\n",
       "      <td>Jaya Prada</td>\n",
       "      <td>Arjun Sarja</td>\n",
       "      <td>5.511985</td>\n",
       "      <td>4.090625</td>\n",
       "      <td>6.045128</td>\n",
       "      <td>5.632558</td>\n",
       "      <td>5.780000</td>\n",
       "    </tr>\n",
       "    <tr>\n",
       "      <th>15508</th>\n",
       "      <td>1998</td>\n",
       "      <td>130</td>\n",
       "      <td>Drama</td>\n",
       "      <td>6.2</td>\n",
       "      <td>20</td>\n",
       "      <td>K.C. Bokadia</td>\n",
       "      <td>Dharmendra</td>\n",
       "      <td>Jaya Prada</td>\n",
       "      <td>Arjun Sarja</td>\n",
       "      <td>5.882451</td>\n",
       "      <td>4.090625</td>\n",
       "      <td>6.045128</td>\n",
       "      <td>5.632558</td>\n",
       "      <td>5.780000</td>\n",
       "    </tr>\n",
       "  </tbody>\n",
       "</table>\n",
       "<p>12008 rows × 14 columns</p>\n",
       "</div>"
      ],
      "text/plain": [
       "       Year  Duration     Genre  Rating  Votes         Director       Actor 1  \\\n",
       "1      2019       109     Drama     7.0      8    Gaurav Bakshi  Rasika Dugal   \n",
       "3      2019       110    Comedy     4.4     35       Ovais Khan       Prateik   \n",
       "3      2019       110   Romance     4.4     35       Ovais Khan       Prateik   \n",
       "5      1997       147    Comedy     4.7    827     Rahul Rawail    Bobby Deol   \n",
       "5      1997       147     Drama     4.7    827     Rahul Rawail    Bobby Deol   \n",
       "...     ...       ...       ...     ...    ...              ...           ...   \n",
       "15503  1989       125     Drama     5.8     44  S.P. Muthuraman   Chiranjeevi   \n",
       "15505  1999       129    Action     4.5    655       Kuku Kohli  Akshay Kumar   \n",
       "15505  1999       129     Drama     4.5    655       Kuku Kohli  Akshay Kumar   \n",
       "15508  1998       130    Action     6.2     20     K.C. Bokadia    Dharmendra   \n",
       "15508  1998       130     Drama     6.2     20     K.C. Bokadia    Dharmendra   \n",
       "\n",
       "                      Actor 2          Actor 3  Genre_group  Director_group  \\\n",
       "1              Vivek Ghamande    Arvind Jangid     6.248697        7.000000   \n",
       "3                  Ishita Raj  Siddhant Kapoor     5.838423        4.400000   \n",
       "3                  Ishita Raj  Siddhant Kapoor     5.838739        4.400000   \n",
       "5      Aishwarya Rai Bachchan    Shammi Kapoor     5.838423        5.335135   \n",
       "5      Aishwarya Rai Bachchan    Shammi Kapoor     5.882451        5.335135   \n",
       "...                       ...              ...          ...             ...   \n",
       "15503              Jayamalini      Rajinikanth     5.882451        6.290476   \n",
       "15505          Twinkle Khanna      Aruna Irani     5.511985        5.175000   \n",
       "15505          Twinkle Khanna      Aruna Irani     5.882451        5.175000   \n",
       "15508              Jaya Prada      Arjun Sarja     5.511985        4.090625   \n",
       "15508              Jaya Prada      Arjun Sarja     5.882451        4.090625   \n",
       "\n",
       "       Actor_1_group  Actor_2_group  Actor_3_group  \n",
       "1           6.850000       7.000000       7.000000  \n",
       "3           5.250000       4.400000       4.460000  \n",
       "3           5.250000       4.400000       4.460000  \n",
       "5           4.793617       5.730000       5.930000  \n",
       "5           4.793617       5.730000       5.930000  \n",
       "...              ...            ...            ...  \n",
       "15503       6.377419       5.800000       6.018750  \n",
       "15505       5.440845       4.603704       5.754545  \n",
       "15505       5.440845       4.603704       5.754545  \n",
       "15508       6.045128       5.632558       5.780000  \n",
       "15508       6.045128       5.632558       5.780000  \n",
       "\n",
       "[12008 rows x 14 columns]"
      ]
     },
     "execution_count": 18,
     "metadata": {},
     "output_type": "execute_result"
    }
   ],
   "source": [
    "genre_mean = movie_data.groupby('Genre')['Rating'].transform('mean')\n",
    "movie_data['Genre_group'] = genre_mean\n",
    "director_mean=movie_data.groupby('Director')['Rating'].transform('mean')\n",
    "movie_data['Director_group']=director_mean\n",
    "actor_1_mean=movie_data.groupby('Actor 1')['Rating'].transform('mean')\n",
    "movie_data['Actor_1_group']=actor_1_mean\n",
    "actor_2_mean=movie_data.groupby('Actor 2')['Rating'].transform('mean')\n",
    "movie_data['Actor_2_group']=actor_2_mean\n",
    "actor_3_mean=movie_data.groupby('Actor 3')['Rating'].transform('mean')\n",
    "movie_data['Actor_3_group']=actor_3_mean\n",
    "movie_data"
   ]
  },
  {
   "cell_type": "markdown",
   "id": "3f83bbbc",
   "metadata": {},
   "source": [
    "Model"
   ]
  },
  {
   "cell_type": "code",
   "execution_count": 19,
   "id": "3ef83a22",
   "metadata": {},
   "outputs": [],
   "source": [
    "model1=RandomForestRegressor()\n",
    "model2=LinearRegression()\n",
    "x=movie_data[['Year','Votes','Duration','Genre_group','Director_group','Actor_1_group','Actor_2_group','Actor_3_group']]\n",
    "y=movie_data[['Rating']]\n",
    "x_train,x_test,y_train,y_test=train_test_split(x,y,test_size=0.2,random_state=20)"
   ]
  },
  {
   "cell_type": "code",
   "execution_count": 20,
   "id": "46977958",
   "metadata": {},
   "outputs": [
    {
     "name": "stderr",
     "output_type": "stream",
     "text": [
      "c:\\Users\\Kaustubha Ram\\AppData\\Local\\Programs\\Python\\Python312\\Lib\\site-packages\\sklearn\\base.py:1473: DataConversionWarning: A column-vector y was passed when a 1d array was expected. Please change the shape of y to (n_samples,), for example using ravel().\n",
      "  return fit_method(estimator, *args, **kwargs)\n"
     ]
    }
   ],
   "source": [
    "model1.fit(x_train,y_train)\n",
    "model2.fit(x_train,y_train)\n",
    "lin_pred=model2.predict(x_test)\n",
    "rand_pred=model1.predict(x_test)"
   ]
  },
  {
   "cell_type": "code",
   "execution_count": 21,
   "id": "5d72e811",
   "metadata": {},
   "outputs": [
    {
     "name": "stdout",
     "output_type": "stream",
     "text": [
      "Random Forest Regressor: \n",
      "mean_squared_error:  0.1016911136552873\n",
      "mean_absolute_error:  0.17933014154870958\n",
      "r2_score:  0.9465091792923737\n",
      "/n\n",
      "Linear Regression: \n",
      "mean_squared_error:  0.43576577729566723\n",
      "mean_absolute_error:  0.4892541008332029\n",
      "r2_score:  0.7707816521426202\n"
     ]
    }
   ],
   "source": [
    "print('Random Forest Regressor: ')\n",
    "print('mean_squared_error: ',mean_squared_error(y_test,rand_pred))\n",
    "print('mean_absolute_error: ',mean_absolute_error(y_test,rand_pred))\n",
    "print('r2_score: ',r2_score(y_test,rand_pred))\n",
    "print(\"/n\")\n",
    "print('Linear Regression: ')\n",
    "print('mean_squared_error: ',mean_squared_error(y_test,lin_pred))\n",
    "print('mean_absolute_error: ',mean_absolute_error(y_test,lin_pred))\n",
    "print('r2_score: ',r2_score(y_test,lin_pred))"
   ]
  },
  {
   "cell_type": "markdown",
   "id": "31595543",
   "metadata": {},
   "source": [
    "Since Random Forest has higher R2_score, it will be used"
   ]
  },
  {
   "cell_type": "code",
   "execution_count": 22,
   "id": "c35c7f27",
   "metadata": {},
   "outputs": [],
   "source": [
    "model=model1"
   ]
  },
  {
   "cell_type": "markdown",
   "id": "3b0502fb",
   "metadata": {},
   "source": [
    "Build interface "
   ]
  },
  {
   "cell_type": "code",
   "execution_count": 23,
   "id": "68f2888c",
   "metadata": {},
   "outputs": [
    {
     "name": "stdout",
     "output_type": "stream",
     "text": [
      "Running on local URL:  http://127.0.0.1:7875\n",
      "Running on public URL: https://fee174b74c79c68f27.gradio.live\n",
      "\n",
      "This share link expires in 72 hours. For free permanent hosting and GPU upgrades, run `gradio deploy` from Terminal to deploy to Spaces (https://huggingface.co/spaces)\n"
     ]
    },
    {
     "data": {
      "text/html": [
       "<div><iframe src=\"https://fee174b74c79c68f27.gradio.live\" width=\"100%\" height=\"500\" allow=\"autoplay; camera; microphone; clipboard-read; clipboard-write;\" frameborder=\"0\" allowfullscreen></iframe></div>"
      ],
      "text/plain": [
       "<IPython.core.display.HTML object>"
      ]
     },
     "metadata": {},
     "output_type": "display_data"
    },
    {
     "data": {
      "text/plain": []
     },
     "execution_count": 23,
     "metadata": {},
     "output_type": "execute_result"
    },
    {
     "name": "stderr",
     "output_type": "stream",
     "text": [
      "c:\\Users\\Kaustubha Ram\\AppData\\Local\\Programs\\Python\\Python312\\Lib\\site-packages\\sklearn\\base.py:493: UserWarning: X does not have valid feature names, but RandomForestRegressor was fitted with feature names\n",
      "  warnings.warn(\n"
     ]
    }
   ],
   "source": [
    "import gradio as gr\n",
    "def predict(name,year,votes,duration,genre_mean_rating,director_mean_rating,actor_1_mean_rating,actor_2_mean_rating,actor_3_mean_rating):\n",
    "    year=int(year)\n",
    "    votes=int(votes)\n",
    "    duration=int(duration)\n",
    "    genre_mean_rating=float(genre_mean_rating)\n",
    "    director_mean_rating=float(director_mean_rating)\n",
    "    actor_1_mean_rating=float(director_mean_rating)\n",
    "    actor_2_mean_rating=float(actor_2_mean_rating)\n",
    "    actor_3_mean_rating=float(actor_3_mean_rating)\n",
    "    # print(year,votes,duration,genre_mean_rating,actor_1_mean_rating,actor_2_mean_rating,actor_3_mean_rating)\n",
    "    features=[[year,votes,duration,genre_mean_rating,director_mean_rating,actor_1_mean_rating,actor_2_mean_rating,actor_3_mean_rating]]\n",
    "    prediction=model.predict(features)[0]\n",
    "    return prediction\n",
    "\n",
    "demo = gr.Interface(\n",
    "    fn=predict,\n",
    "    inputs=[\n",
    "        \"text\",\n",
    "        \"number\",\n",
    "        \"number\",\n",
    "        \"number\",\n",
    "        \"number\",\n",
    "        \"number\",\n",
    "        \"number\",\n",
    "        \"number\",\n",
    "        \"number\",        \n",
    "    ],\n",
    "    outputs=[\"text\"],\n",
    "    \n",
    ")\n",
    "demo.launch(share=True)"
   ]
  }
 ],
 "metadata": {
  "kernelspec": {
   "display_name": "Python 3 (ipykernel)",
   "language": "python",
   "name": "python3"
  },
  "language_info": {
   "codemirror_mode": {
    "name": "ipython",
    "version": 3
   },
   "file_extension": ".py",
   "mimetype": "text/x-python",
   "name": "python",
   "nbconvert_exporter": "python",
   "pygments_lexer": "ipython3",
   "version": "3.12.3"
  }
 },
 "nbformat": 4,
 "nbformat_minor": 5
}
